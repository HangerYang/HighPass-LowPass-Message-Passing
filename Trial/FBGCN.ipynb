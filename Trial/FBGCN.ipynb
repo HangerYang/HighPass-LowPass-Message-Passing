{
 "metadata": {
  "language_info": {
   "codemirror_mode": {
    "name": "ipython",
    "version": 3
   },
   "file_extension": ".py",
   "mimetype": "text/x-python",
   "name": "python",
   "nbconvert_exporter": "python",
   "pygments_lexer": "ipython3",
   "version": "3.8.8"
  },
  "orig_nbformat": 4,
  "kernelspec": {
   "name": "python3",
   "display_name": "Python 3.8.8 64-bit ('torch': conda)"
  },
  "interpreter": {
   "hash": "fc428ca26affa5af9dd5c051ba311245887c388f59b707cd674a8c125ddecc9a"
  }
 },
 "nbformat": 4,
 "nbformat_minor": 2,
 "cells": [
  {
   "cell_type": "code",
   "execution_count": 1,
   "metadata": {},
   "outputs": [],
   "source": [
    "import torch\n",
    "import torch.nn as nn\n",
    "import torch.nn.functional as F\n",
    "import scipy.linalg\n",
    "from torch_geometric.nn import GCNConv\n",
    "import numpy as np\n",
    "from tqdm import tqdm\n",
    "device = torch.device(\"cuda\" if torch.cuda.is_available() else \"cpu\")"
   ]
  },
  {
   "cell_type": "code",
   "execution_count": 2,
   "metadata": {},
   "outputs": [],
   "source": [
    "import gc\n",
    "\n",
    "gc.collect()\n",
    "torch.cuda.empty_cache()"
   ]
  },
  {
   "cell_type": "code",
   "execution_count": 3,
   "metadata": {},
   "outputs": [],
   "source": [
    "from torch_geometric.datasets import Planetoid\n",
    "name_data = 'Cora'\n",
    "dataset = Planetoid(root= '/tmp/' + name_data, name = name_data)\n",
    "\n",
    "# from torch_geometric.datasets import Actor\n",
    "# dataset = Actor(root= '/tmp/' + \"Actor\")\n",
    "\n",
    "# from torch_geometric.datasets import WebKB\n",
    "# name_data = 'Wisconsin'\n",
    "# dataset = WebKB(root= '/tmp/' + name_data, name = name_data)\n",
    "\n",
    "# from torch_geometric.datasets import Planetoid\n",
    "# name_data = 'CiteSeer'\n",
    "# dataset = Planetoid(root= '/tmp/' + name_data, name = name_data)\n",
    "\n",
    "# from torch_geometric.datasets import WebKB\n",
    "# name_data = 'Cornell'\n",
    "# dataset = WebKB(root= '/tmp/' + name_data, name = name_data)\n",
    "\n",
    "# from torch_geometric.datasets import WebKB\n",
    "# name_data = 'Texas'\n",
    "# dataset = WebKB(root= '/tmp/' + name_data, name = name_data)\n",
    "\n",
    "# from torch_geometric.datasets import WikipediaNetwork\n",
    "# name_data = 'Chameleon'\n",
    "# dataset = WikipediaNetwork(root= '/tmp/' + name_data, name = name_data)\n",
    "\n",
    "# from torch_geometric.datasets import WikipediaNetwork\n",
    "# name_data = 'Squirrel'\n",
    "# dataset = WikipediaNetwork(root= '/tmp/' + name_data, name = name_data)"
   ]
  },
  {
   "cell_type": "code",
   "execution_count": 4,
   "metadata": {},
   "outputs": [
    {
     "output_type": "stream",
     "name": "stderr",
     "text": [
      "100%|██████████| 10556/10556 [00:00<00:00, 21449.76it/s]\n",
      "100%|██████████| 2708/2708 [00:38<00:00, 69.69it/s]\n"
     ]
    }
   ],
   "source": [
    "data = dataset[0]\n",
    "\n",
    "edges = data.edge_index\n",
    "\n",
    "#dimension: num_nodes * num_features\n",
    "features = data.x\n",
    "\n",
    "num_nodes = features.shape[0]\n",
    "num_features = features.shape[1]\n",
    "#dimension: num_nodes * num_nodes\n",
    "adj = torch.zeros((num_nodes,num_nodes))\n",
    "degree = torch.zeros((num_nodes,num_nodes))\n",
    "for i in tqdm(range(edges.shape[1])):\n",
    "    first = edges[0][i]\n",
    "    second = edges[1][i]\n",
    "    adj[first][second] = 1\n",
    "    adj[second][first] = 1\n",
    "for i in tqdm(range(num_nodes)):\n",
    "    degree[i][i] = sum(adj[i][:])"
   ]
  },
  {
   "cell_type": "code",
   "execution_count": 5,
   "metadata": {},
   "outputs": [],
   "source": [
    "sample_num = int(num_nodes*0.6)\n",
    "sample_lst = np.random.choice(num_nodes,sample_num, replace = False)\n",
    "train_mask = [False] * num_nodes\n",
    "test_mask = [True] * num_nodes\n",
    "for i in sample_lst:\n",
    "  train_mask[i] = True\n",
    "  test_mask[i] = False\n",
    "train_mask = torch.tensor(train_mask)\n",
    "test_mask = torch.tensor(test_mask)\n",
    "degree = degree.to(device)\n",
    "adj = adj.to(device)\n",
    "data = data.to(device)\n",
    "features = features.to(device)"
   ]
  },
  {
   "cell_type": "code",
   "execution_count": 11,
   "metadata": {},
   "outputs": [
    {
     "output_type": "stream",
     "name": "stdout",
     "text": [
      "2708\n1433\n1433\n"
     ]
    }
   ],
   "source": [
    "print(num_nodes)\n",
    "print(num_features)\n",
    "print(dataset.num_node_features)"
   ]
  },
  {
   "cell_type": "code",
   "execution_count": 6,
   "metadata": {},
   "outputs": [],
   "source": [
    "class FBLayer(nn.Module):\n",
    "    def __init__(self, dim_in, dim_out):\n",
    "      super().__init__()\n",
    "      self.high = nn.Linear(dim_in, dim_out, bias = False)\n",
    "      gain = nn.init.calculate_gain(\"relu\")\n",
    "      nn.init.xavier_normal_(self.high.weight, gain)\n",
    "      self.activation = nn.ReLU()\n",
    "        \n",
    "    def forward(self, input, lap, d_inv):\n",
    "      Lhp = torch.mm(torch.mm(d_inv, lap), d_inv)\n",
    "      Hh = torch.mm(Lhp, self.activation(self.low(input)))\n",
    "      return Hh"
   ]
  },
  {
   "cell_type": "code",
   "execution_count": 7,
   "metadata": {},
   "outputs": [],
   "source": [
    "class GCN(torch.nn.Module):\n",
    "    def __init__(self):\n",
    "      super().__init__()\n",
    "      self.conv1 = GCNConv(dataset.num_node_features, 16)\n",
    "      self.conv2 = GCNConv(16, dataset.num_classes)\n",
    "\n",
    "    def forward(self, data):\n",
    "      x, edge_index = data.x, data.edge_index\n",
    "      x = self.conv1(x, edge_index)\n",
    "      x = F.relu(x)\n",
    "      x = F.dropout(x, training=self.training)\n",
    "      x = self.conv2(x, edge_index)\n",
    "\n",
    "      return F.log_softmax(x, dim=1)"
   ]
  },
  {
   "cell_type": "code",
   "execution_count": 8,
   "metadata": {},
   "outputs": [],
   "source": [
    "class FBGCN(torch.nn.Module):\n",
    "    def __init__(self):\n",
    "      super().__init__()\n",
    "      self.fb1 = FBLayer(dataset.num_node_features, 16)\n",
    "      self.fb2 = FBLayer(16 ,dataset.num_classes)\n",
    "      self.conv1 = GCNConv(dataset.num_node_features, 16)\n",
    "      self.conv2 = GCNConv(16, dataset.num_classes)\n",
    "      self.aL_1 = torch.nn.Parameter(torch.rand(1))\n",
    "      self.aH_1 = torch.nn.Parameter(torch.rand(1))\n",
    "      self.aL_2 = torch.nn.Parameter(torch.rand(1))\n",
    "      self.aH_2 = torch.nn.Parameter(torch.rand(1))\n",
    "\n",
    "    def forward(self, data, lap, d_inv):\n",
    "      input, edge_index = data.x, data.edge_index\n",
    "      x_1 = self.fb1(input, lap, d_inv) #high pass\n",
    "      y_1 = self.conv1(input, edge_index) #low pass layer\n",
    "      z_1 = self.aH_1 * x_1 + self.aL_1 * y_1\n",
    "      z_1 = F.relu(z_1)\n",
    "      z_1 = F.dropout(z_1, training=self.training)\n",
    "      x_2 = self.fb2(z_1, lap, d_inv)\n",
    "      y_2 = self.conv2(z_1, edge_index)\n",
    "      z_2 = self.aH_2 * x_2 + self.aL_2 * y_2\n",
    "\n",
    "      return F.log_softmax(z_2, dim=1)"
   ]
  },
  {
   "cell_type": "code",
   "execution_count": 9,
   "metadata": {},
   "outputs": [
    {
     "output_type": "error",
     "ename": "NameError",
     "evalue": "name 'acc_list_2' is not defined",
     "traceback": [
      "\u001b[1;31m---------------------------------------------------------------------------\u001b[0m",
      "\u001b[1;31mNameError\u001b[0m                                 Traceback (most recent call last)",
      "\u001b[1;32m<ipython-input-9-4d3d6d590700>\u001b[0m in \u001b[0;36m<module>\u001b[1;34m\u001b[0m\n\u001b[0;32m     22\u001b[0m \u001b[1;31m#     torch.cuda.empty_cache()\u001b[0m\u001b[1;33m\u001b[0m\u001b[1;33m\u001b[0m\u001b[1;33m\u001b[0m\u001b[0m\n\u001b[0;32m     23\u001b[0m \u001b[1;31m# del d_inv, inter, lap\u001b[0m\u001b[1;33m\u001b[0m\u001b[1;33m\u001b[0m\u001b[1;33m\u001b[0m\u001b[0m\n\u001b[1;32m---> 24\u001b[1;33m \u001b[0mprint\u001b[0m\u001b[1;33m(\u001b[0m\u001b[1;34m'FBGCN Accuracy: {:.4f}'\u001b[0m\u001b[1;33m.\u001b[0m\u001b[0mformat\u001b[0m\u001b[1;33m(\u001b[0m\u001b[0mnp\u001b[0m\u001b[1;33m.\u001b[0m\u001b[0mmean\u001b[0m\u001b[1;33m(\u001b[0m\u001b[0macc_list_2\u001b[0m\u001b[1;33m)\u001b[0m\u001b[1;33m)\u001b[0m\u001b[1;33m)\u001b[0m\u001b[1;33m\u001b[0m\u001b[1;33m\u001b[0m\u001b[0m\n\u001b[0m",
      "\u001b[1;31mNameError\u001b[0m: name 'acc_list_2' is not defined"
     ]
    }
   ],
   "source": [
    "# acc_list_2 = []\n",
    "# lap = degree - adj\n",
    "# inter = scipy.linalg.fractional_matrix_power(degree.cpu(), (-1/2))\n",
    "# d_inv = torch.from_numpy(inter).to(device)\n",
    "# for i in tqdm(range(5)):\n",
    "#     model_2 = GCN().to(device)\n",
    "#     model_2.train()\n",
    "#     optimizer = torch.optim.Adam(model_2.parameters(), lr=0.05 ,weight_decay=5e-5)\n",
    "#     for epoch in range(100):\n",
    "#         optimizer.zero_grad()\n",
    "#         out = model_2(data)\n",
    "#         loss = F.nll_loss(out[train_mask], data.y[train_mask]) \n",
    "#         loss.backward()\n",
    "#         optimizer.step()\n",
    "#     model_2.eval()\n",
    "#     _, pred = model_2(data).max(dim=1)\n",
    "#     correct = int(pred[test_mask].eq(data.y[test_mask]).sum().item())\n",
    "#     acc = correct / int(test_mask.sum())\n",
    "#     acc_list_2.append(acc)\n",
    "#     del model_2\n",
    "#     del correct\n",
    "#     torch.cuda.empty_cache()\n",
    "# del d_inv, inter, lap\n",
    "# print('FBGCN Accuracy: {:.4f}'.format(np.mean(acc_list_2)))"
   ]
  },
  {
   "cell_type": "code",
   "execution_count": 16,
   "metadata": {},
   "outputs": [],
   "source": [
    "acc_list = []\n",
    "lap = degree - adj\n",
    "inter = scipy.linalg.fractional_matrix_power(degree.cpu(), (-1/2))\n",
    "d_inv = torch.from_numpy(inter).to(device)\n",
    "for i in range(1):\n",
    "    model = FBGCN().to(device)\n",
    "    model.train()\n",
    "    optimizer = torch.optim.Adam(model.parameters(), lr=0.05 ,weight_decay=5e-5)\n",
    "    for epoch in tqdm(range(100)):\n",
    "        optimizer.zero_grad()\n",
    "        out = model(data, lap, d_inv)\n",
    "        loss = F.nll_loss(out[train_mask], data.y[train_mask]) \n",
    "        loss.backward()\n",
    "        optimizer.step()\n",
    "    model.eval()\n",
    "    _, pred = model(data, lap, d_inv).max(dim=1)\n",
    "    correct = int(pred[test_mask].eq(data.y[test_mask]).sum().item())\n",
    "    acc = correct / int(test_mask.sum())\n",
    "    acc_list.append(acc)\n",
    "    del correct\n",
    "    torch.cuda.empty_cache()\n",
    "del d_inv, inter, lap\n",
    "print('FBGCN Accuracy: {:.4f}'.format(np.mean(acc_list)))"
   ]
  },
  {
   "cell_type": "code",
   "execution_count": 17,
   "metadata": {},
   "outputs": [
    {
     "output_type": "stream",
     "name": "stdout",
     "text": [
      "tensor([[ 3.,  0.,  0.,  ...,  0.,  0.,  0.],\n        [ 0.,  3., -1.,  ...,  0.,  0.,  0.],\n        [ 0., -1.,  5.,  ...,  0.,  0.,  0.],\n        ...,\n        [ 0.,  0.,  0.,  ...,  1.,  0.,  0.],\n        [ 0.,  0.,  0.,  ...,  0.,  4., -1.],\n        [ 0.,  0.,  0.,  ...,  0., -1.,  4.]], device='cuda:0')\ntensor([[0.5774, 0.0000, 0.0000,  ..., 0.0000, 0.0000, 0.0000],\n        [0.0000, 0.5774, 0.0000,  ..., 0.0000, 0.0000, 0.0000],\n        [0.0000, 0.0000, 0.4472,  ..., 0.0000, 0.0000, 0.0000],\n        ...,\n        [0.0000, 0.0000, 0.0000,  ..., 1.0000, 0.0000, 0.0000],\n        [0.0000, 0.0000, 0.0000,  ..., 0.0000, 0.5000, 0.0000],\n        [0.0000, 0.0000, 0.0000,  ..., 0.0000, 0.0000, 0.5000]],\n       device='cuda:0')\n"
     ]
    }
   ],
   "source": [
    "print(lap)\n",
    "print(d_inv)"
   ]
  },
  {
   "cell_type": "code",
   "execution_count": 14,
   "metadata": {},
   "outputs": [
    {
     "output_type": "stream",
     "name": "stdout",
     "text": [
      "aL_1 tensor([1.1261], device='cuda:0')\n",
      "aH_1 tensor([1.6244], device='cuda:0')\n",
      "aL_2 tensor([0.5746], device='cuda:0')\n",
      "aH_2 tensor([1.3820], device='cuda:0')\n",
      "fb1.low.weight tensor([[-0.2764, -0.2020,  0.1652,  ...,  0.2999, -0.1189, -0.0011],\n",
      "        [-0.0065,  0.0011, -0.1512,  ...,  0.2483,  0.0620, -0.0017],\n",
      "        [ 0.0351,  0.1892, -0.0508,  ..., -0.2959, -0.2928, -0.0175],\n",
      "        ...,\n",
      "        [-0.1654,  0.1063, -0.0745,  ...,  0.2465,  0.3829, -0.1437],\n",
      "        [ 0.0714, -0.2486, -0.2729,  ..., -0.0248,  0.1168,  0.1253],\n",
      "        [-0.0168,  0.1665, -0.0706,  ..., -0.0694, -0.1604, -0.0351]],\n",
      "       device='cuda:0')\n",
      "fb2.low.weight tensor([[ 0.3329,  0.2954,  0.3421, -0.8628, -0.1485, -0.1529, -0.0202,  1.3022,\n",
      "         -0.6331,  0.0453, -0.1225,  0.0277,  0.5065, -0.1077,  0.7365, -0.7597],\n",
      "        [-0.1258,  0.2057,  0.3062,  0.5660,  0.1916,  0.5624, -0.4158,  0.2925,\n",
      "          0.6607, -0.8338, -0.3479, -0.1709,  0.2677, -0.2798,  0.1884, -0.1944],\n",
      "        [-0.0078,  0.1385, -0.4461,  0.2149, -0.0871,  0.5095, -0.2718, -0.3608,\n",
      "         -0.2968, -0.0764, -0.1675,  0.9675, -0.5153,  0.5237, -0.4868, -0.0231],\n",
      "        [-0.6319, -0.5455, -0.0833,  1.2813, -0.5375,  0.2765, -0.3099,  0.2969,\n",
      "         -0.0818, -0.6522,  0.3512,  0.3041,  0.5484, -0.3779, -0.0901,  0.3787],\n",
      "        [-0.1361, -0.4780,  0.4065, -0.6990,  0.2662, -0.0429, -0.0409, -0.1742,\n",
      "          0.6598,  0.4747, -0.3609, -0.0249, -0.2574,  0.9752, -0.3812, -0.3218],\n",
      "        [-0.4078, -0.2597, -0.1810, -0.3243, -0.3173,  0.1168, -0.0942, -0.3471,\n",
      "         -0.1776, -0.3618, -0.1046,  0.4544,  0.7006, -0.1644, -0.5493, -0.4326],\n",
      "        [ 0.3628, -0.8516, -0.3232, -0.0244, -0.2083, -0.2379, -0.2163, -0.3061,\n",
      "          0.0693, -0.1721, -0.0177,  0.5180,  0.0501,  0.0342,  0.4010, -0.3213]],\n",
      "       device='cuda:0')\n",
      "conv1.weight tensor([[-0.2460, -0.3737, -0.0699,  ...,  0.0860,  0.0868,  0.0539],\n",
      "        [-0.2714,  0.2393,  0.3818,  ..., -0.2104, -0.0190,  0.0378],\n",
      "        [-0.2562, -0.0870,  0.1623,  ..., -0.0595,  0.3911, -0.2669],\n",
      "        ...,\n",
      "        [ 0.0602,  0.2963, -0.0971,  ..., -0.2139, -0.1185, -0.2694],\n",
      "        [ 0.1297, -0.2597, -0.0313,  ..., -0.0282,  0.0642, -0.2906],\n",
      "        [ 0.0382,  0.1719, -0.1085,  ...,  0.0276, -0.0426,  0.0026]],\n",
      "       device='cuda:0')\n",
      "conv1.bias tensor([-0.1036, -0.0226, -0.0412,  0.1391,  0.0113,  0.2905,  0.0718,  0.1171,\n",
      "         0.1289, -0.1393,  0.0720, -0.1439,  0.1145, -0.0033, -0.1365,  0.3020],\n",
      "       device='cuda:0')\n",
      "conv2.weight tensor([[ 0.7585,  0.5306,  0.3556, -0.6824, -1.1604, -1.5169,  0.6745],\n",
      "        [ 0.9382,  0.8564, -0.0385, -0.3472, -0.7754,  0.4184, -0.9441],\n",
      "        [-0.8750,  0.7055, -1.2358,  0.6946, -1.1038,  0.7820, -0.4059],\n",
      "        [-0.0401,  0.5456,  0.7921, -0.1378, -0.8839,  0.7146, -1.6503],\n",
      "        [ 0.2851,  0.8905,  0.5649, -0.8451,  0.8102, -1.6470, -1.5882],\n",
      "        [ 0.7768, -1.3893, -0.9845,  0.7057,  0.8798,  0.6589, -1.0070],\n",
      "        [-0.5160, -1.3294,  0.9151, -1.0767,  1.0728,  0.7409, -0.8471],\n",
      "        [-0.3854, -0.8086, -0.4551,  0.9868,  0.9607, -1.2706, -0.7517],\n",
      "        [-1.1627, -1.1012,  0.9506,  0.8745, -0.2717, -0.8218, -1.0352],\n",
      "        [-0.7515, -1.8738,  0.5515, -0.4536, -0.9902,  0.6526,  0.7559],\n",
      "        [-0.6344,  0.4218, -0.3285,  0.8143, -1.4973, -1.3855,  0.9839],\n",
      "        [ 0.4939, -0.2923, -0.0608,  0.4162, -1.0601, -0.6594,  0.5763],\n",
      "        [ 0.9985, -0.0430, -0.6708,  0.9232,  0.7044, -1.0368, -1.5488],\n",
      "        [ 0.5843, -1.3619,  0.1749, -0.5089, -1.0421,  0.6454,  0.6590],\n",
      "        [ 0.3708,  0.5506, -1.7788, -0.5131,  0.1238, -0.4694,  0.5813],\n",
      "        [-0.7227,  0.7849,  0.8589,  0.7327, -1.0034, -0.8520, -1.3850]],\n",
      "       device='cuda:0')\n",
      "conv2.bias tensor([-0.1818, -0.5914, -0.8555,  0.1197,  0.6980,  0.1983,  0.1980],\n",
      "       device='cuda:0')\n"
     ]
    }
   ],
   "source": [
    "for name, param in model.named_parameters():\n",
    "    if param.requires_grad:\n",
    "        print (name, param.data)"
   ]
  },
  {
   "cell_type": "code",
   "execution_count": 26,
   "metadata": {},
   "outputs": [],
   "source": [
    "# for layer in model.children():\n",
    "#    if hasattr(layer, 'reset_parameters'):\n",
    "#        layer.reset_parameters()"
   ]
  },
  {
   "cell_type": "code",
   "execution_count": null,
   "metadata": {},
   "outputs": [],
   "source": []
  }
 ]
}