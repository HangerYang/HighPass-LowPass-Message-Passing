{
 "metadata": {
  "language_info": {
   "codemirror_mode": {
    "name": "ipython",
    "version": 3
   },
   "file_extension": ".py",
   "mimetype": "text/x-python",
   "name": "python",
   "nbconvert_exporter": "python",
   "pygments_lexer": "ipython3",
   "version": "3.8.8"
  },
  "orig_nbformat": 4,
  "kernelspec": {
   "name": "python3",
   "display_name": "Python 3.8.8 64-bit ('torch': conda)"
  },
  "interpreter": {
   "hash": "fc428ca26affa5af9dd5c051ba311245887c388f59b707cd674a8c125ddecc9a"
  }
 },
 "nbformat": 4,
 "nbformat_minor": 2,
 "cells": [
  {
   "cell_type": "code",
   "execution_count": 1,
   "metadata": {},
   "outputs": [],
   "source": [
    "import torch_geometric.nn as gnn\n",
    "import torch_geometric\n",
    "import torch\n",
    "import torch.nn as nn\n",
    "import torch.nn.functional as F\n",
    "import scipy.linalg\n",
    "from torch_geometric.nn import GCNConv\n",
    "import numpy as np\n",
    "device = torch.device(\"cuda\" if torch.cuda.is_available() else \"cpu\")"
   ]
  },
  {
   "cell_type": "code",
   "execution_count": 2,
   "metadata": {},
   "outputs": [],
   "source": [
    "import gc\n",
    "\n",
    "gc.collect()\n",
    "torch.cuda.empty_cache()"
   ]
  },
  {
   "cell_type": "code",
   "execution_count": 3,
   "metadata": {},
   "outputs": [],
   "source": [
    "# from torch_geometric.datasets import Planetoid\n",
    "# name_data = 'Cora'\n",
    "# dataset = Planetoid(root= '/tmp/' + name_data, name = name_data)\n",
    "\n",
    "# from torch_geometric.datasets import WebKB\n",
    "# name_data = 'Wisconsin'\n",
    "# dataset = WebKB(root= '/tmp/' + name_data, name = name_data)\n",
    "\n",
    "# from torch_geometric.datasets import Planetoid\n",
    "# name_data = 'CiteSeer'\n",
    "# dataset = Planetoid(root= '/tmp/' + name_data, name = name_data)\n",
    "\n",
    "# from torch_geometric.datasets import WebKB\n",
    "# name_data = 'Cornell'\n",
    "# dataset = WebKB(root= '/tmp/' + name_data, name = name_data)\n",
    "\n",
    "# from torch_geometric.datasets import WebKB\n",
    "# name_data = 'Texas'\n",
    "# dataset = WebKB(root= '/tmp/' + name_data, name = name_data)\n",
    "\n",
    "# from torch_geometric.datasets import WikipediaNetwork\n",
    "# name_data = 'Chameleon'\n",
    "# dataset = WikipediaNetwork(root= '/tmp/' + name_data, name = name_data)\n",
    "\n",
    "from torch_geometric.datasets import WikipediaNetwork\n",
    "name_data = 'Squirrel'\n",
    "dataset = WikipediaNetwork(root= '/tmp/' + name_data, name = name_data)"
   ]
  },
  {
   "cell_type": "code",
   "execution_count": 4,
   "metadata": {},
   "outputs": [],
   "source": [
    "data = dataset[0]\n",
    "\n",
    "edges = data.edge_index\n",
    "\n",
    "#dimension: num_nodes * num_features\n",
    "features = data.x\n",
    "\n",
    "num_nodes = features.shape[0]\n",
    "num_features = features.shape[1]\n",
    "#dimension: num_nodes * num_nodes\n",
    "adj = torch.zeros((num_nodes,num_nodes))\n",
    "degree = torch.zeros((num_nodes,num_nodes))\n",
    "for i in range(edges.shape[1]):\n",
    "    first = edges[0][i]\n",
    "    second = edges[1][i]\n",
    "    adj[first][second] = 1\n",
    "    adj[second][first] = 1\n",
    "for i in range(num_nodes):\n",
    "    degree[i][i] = sum(adj[i][:])"
   ]
  },
  {
   "cell_type": "code",
   "execution_count": 5,
   "metadata": {},
   "outputs": [],
   "source": [
    "sample_num = int(num_nodes*0.6)\n",
    "sample_lst = np.random.choice(num_nodes,sample_num, replace = False)\n",
    "train_mask = [False] * num_nodes\n",
    "test_mask = [True] * num_nodes\n",
    "for i in sample_lst:\n",
    "  train_mask[i] = True\n",
    "  test_mask[i] = False\n",
    "train_mask = torch.tensor(train_mask)\n",
    "test_mask = torch.tensor(test_mask)\n",
    "degree = degree.to(device)\n",
    "adj = adj.to(device)\n",
    "data = data.to(device)\n",
    "features = features.to(device)"
   ]
  },
  {
   "cell_type": "code",
   "execution_count": 6,
   "metadata": {},
   "outputs": [],
   "source": [
    "class FBLayer(nn.Module):\r\n",
    "    def __init__(self, dim_in, dim_out):\r\n",
    "      super().__init__()\r\n",
    "      self.low = nn.Linear(dim_in, dim_out, bias = False)\r\n",
    "      gain = nn.init.calculate_gain(\"relu\")\r\n",
    "      nn.init.xavier_normal_(self.low.weight, gain)\r\n",
    "      self.activation = nn.ReLU()\r\n",
    "        \r\n",
    "    def forward(self, input, adj, degree):\r\n",
    "      lap = degree - adj\r\n",
    "      inter = scipy.linalg.fractional_matrix_power(degree.cpu(), (-1/2))\r\n",
    "      d_inv = torch.from_numpy(inter).to(device)\r\n",
    "      Llp = torch.mm(torch.mm(d_inv, lap), d_inv)\r\n",
    "      Hl = torch.mm(Llp, self.activation(self.low(input)))\r\n",
    "      return Hl"
   ]
  },
  {
   "cell_type": "code",
   "execution_count": 7,
   "metadata": {},
   "outputs": [],
   "source": [
    "class FBGCN(torch.nn.Module):\n",
    "    def __init__(self):\n",
    "      super().__init__()\n",
    "      self.fb1 = FBLayer(dataset.num_node_features, 16)\n",
    "      self.fb2 = FBLayer(16 ,dataset.num_classes)\n",
    "      self.conv1 = GCNConv(dataset.num_node_features, 16)\n",
    "      self.conv2 = GCNConv(16, dataset.num_classes)\n",
    "      self.aL_1 = torch.nn.Parameter(torch.rand(1))\n",
    "      self.aH_1 = torch.nn.Parameter(torch.rand(1))\n",
    "      self.aL_2 = torch.nn.Parameter(torch.rand(1))\n",
    "      self.aH_2 = torch.nn.Parameter(torch.rand(1))\n",
    "\n",
    "    def forward(self, data, adj, degree):\n",
    "      input, edge_index = data.x, data.edge_index\n",
    "      x_1 = self.fb1(input, adj, degree) #high pass\n",
    "      y_1 = self.conv1(input, edge_index) #low pass layer\n",
    "      z_1 = self.aL_1 * x_1 + self.aH_1 * y_1\n",
    "      z_1 = F.relu(z_1)\n",
    "      z_1 = F.dropout(z_1, training=self.training)\n",
    "      x_2 = self.fb2(z_1, adj, degree)\n",
    "      y_2 = self.conv2(z_1, edge_index)\n",
    "      z_2 = self.aL_2 * x_2 + self.aH_2 * y_2\n",
    "\n",
    "      return F.log_softmax(z_2, dim=1)"
   ]
  },
  {
   "cell_type": "code",
   "execution_count": 8,
   "metadata": {},
   "outputs": [],
   "source": [
    "model = FBGCN().to(device)"
   ]
  },
  {
   "cell_type": "code",
   "execution_count": 9,
   "metadata": {},
   "outputs": [],
   "source": [
    "optimizer = torch.optim.Adam(model.parameters(), lr=0.05, weight_decay=5e-5)\n",
    "model.train()\n",
    "for epoch in range(100):\n",
    "    print(epoch)\n",
    "    optimizer.zero_grad()\n",
    "    torch.autograd.detect_anomaly\n",
    "    out = model(data, adj, degree)\n",
    "    loss = F.nll_loss(out[train_mask], data.y[train_mask]) \n",
    "    loss.backward()\n",
    "    optimizer.step()"
   ]
  },
  {
   "cell_type": "code",
   "execution_count": 10,
   "metadata": {},
   "outputs": [
    {
     "output_type": "stream",
     "name": "stdout",
     "text": [
      "FBGCN Accuracy: 0.2725\n"
     ]
    }
   ],
   "source": [
    "model.eval()\n",
    "_, pred = model(data, adj, degree).max(dim=1)\n",
    "correct = int(pred[test_mask].eq(data.y[test_mask]).sum() .item())\n",
    "acc = correct / int(test_mask.sum())\n",
    "print('FBGCN Accuracy: {:.4f}'.format(acc))"
   ]
  },
  {
   "cell_type": "code",
   "execution_count": 11,
   "metadata": {},
   "outputs": [
    {
     "output_type": "stream",
     "name": "stdout",
     "text": [
      "aL_1 tensor([0.8395], device='cuda:0')\n",
      "aH_1 tensor([0.3290], device='cuda:0')\n",
      "aL_2 tensor([1.2091], device='cuda:0')\n",
      "aH_2 tensor([0.7611], device='cuda:0')\n",
      "fb1.low.weight tensor([[-4.2313e-02,  1.0933e-02,  1.2751e-02,  ...,  5.7112e-03,\n",
      "         -2.0937e-01, -7.3691e-02],\n",
      "        [-1.9001e-01,  1.1278e-01, -2.3552e-02,  ..., -1.8762e-02,\n",
      "          1.0766e-01, -3.0043e-02],\n",
      "        [-2.5818e-02, -2.3753e-02,  5.0676e-06,  ...,  6.5787e-04,\n",
      "          2.6137e-02,  9.2074e-04],\n",
      "        ...,\n",
      "        [ 5.5482e-04, -1.8021e-03,  2.8550e-03,  ..., -7.3532e-04,\n",
      "         -1.0747e-01,  8.5834e-03],\n",
      "        [ 4.5072e-03,  1.6448e-02, -9.0411e-03,  ...,  2.7899e-04,\n",
      "         -1.1471e-01,  2.7258e-02],\n",
      "        [-9.0213e-02, -1.5397e-01,  1.0705e-02,  ..., -2.0560e-03,\n",
      "         -1.9904e-01,  5.3126e-02]], device='cuda:0')\n",
      "fb2.low.weight tensor([[ 5.5337e-02, -4.4037e-01, -1.6580e-01, -4.5251e-01,  1.3546e-01,\n",
      "         -3.1130e-01, -1.0537e-01,  9.0686e-01, -1.8726e-02,  8.1554e-01,\n",
      "          1.7726e-03, -9.6550e-02, -3.6154e-01,  2.6498e-01,  8.1673e-01,\n",
      "          4.6684e-01],\n",
      "        [-1.0952e-01, -1.1314e-01, -1.4743e-01,  1.3158e+00, -1.1051e+00,\n",
      "         -1.7269e-01,  2.0226e+00, -2.2430e-01, -1.7943e-01, -1.1658e-01,\n",
      "          2.6354e-01, -3.1701e-01, -5.9558e-01, -3.1292e-01, -3.7909e-01,\n",
      "         -2.0044e-01],\n",
      "        [-3.3974e-02, -6.3703e-01, -3.9495e-01, -6.8309e-01, -5.5208e-01,\n",
      "         -6.4314e-02, -7.2508e-01, -9.0693e-03,  1.6759e-01,  1.4148e+00,\n",
      "         -7.2567e-01, -9.5870e-01, -3.6175e-01, -1.7498e-01, -9.7718e-02,\n",
      "          1.6109e-01],\n",
      "        [-1.3869e-02,  8.6204e-01,  1.0974e-01,  9.8250e-01, -1.1310e-01,\n",
      "         -6.2219e-02,  4.9371e-01,  3.3392e-02,  1.7344e+00, -4.3948e-01,\n",
      "         -2.3420e-02,  7.5383e-01, -1.0809e-01, -8.8930e-02, -3.1903e-01,\n",
      "         -4.5073e-01],\n",
      "        [-2.0293e-02,  1.1094e+00,  1.6627e+00,  3.8242e-01,  5.0170e-01,\n",
      "         -7.7199e-01, -4.6454e-01,  5.0983e-02, -4.1898e-01,  9.2889e-02,\n",
      "          1.1869e+00,  5.6955e-01,  1.8065e+00, -3.2478e-01, -8.6693e-02,\n",
      "         -3.8110e-02]], device='cuda:0')\n",
      "conv1.weight tensor([[-0.1402,  0.1956, -0.0676,  ...,  0.0049,  0.0068, -0.3703],\n",
      "        [ 0.0088,  0.0886, -0.0050,  ...,  0.0145,  0.0231,  0.5061],\n",
      "        [-0.0130,  0.0195, -0.0020,  ..., -0.0006, -0.0062, -0.0057],\n",
      "        ...,\n",
      "        [ 0.0009,  0.0039, -0.0023,  ..., -0.0028, -0.0019, -0.0192],\n",
      "        [-0.2192, -0.1693, -0.1254,  ..., -0.2128, -0.2180, -0.0970],\n",
      "        [-0.2088, -0.2715, -0.1025,  ..., -0.1302, -0.0674,  0.2846]],\n",
      "       device='cuda:0')\n",
      "conv1.bias tensor([-0.2953, -0.7264, -0.3036, -0.1224, -0.2440, -0.0502, -0.2729, -0.2780,\n",
      "        -0.6381, -0.3503, -0.3434, -0.1405, -0.7909, -0.2818, -0.2806, -0.3993],\n",
      "       device='cuda:0')\n",
      "conv2.weight tensor([[ 0.0183,  0.1355, -0.1008, -0.1259, -0.0089],\n",
      "        [-0.4247,  0.1154,  0.2593,  0.6380,  0.4688],\n",
      "        [-0.6858,  0.1032,  0.2184, -0.3613,  0.1301],\n",
      "        [ 0.6865,  0.7150, -0.9700,  0.3618, -0.3686],\n",
      "        [ 0.1295, -0.4666, -0.2053,  0.2070,  0.5715],\n",
      "        [-0.1126,  0.1536,  0.5037, -0.1061, -0.6503],\n",
      "        [ 0.1114,  0.2673,  0.4569, -0.4631, -0.6003],\n",
      "        [ 1.2188, -0.1436, -0.5093, -0.0043, -0.1896],\n",
      "        [ 0.1602,  0.2861,  0.3431,  1.2736,  0.3398],\n",
      "        [-0.8268, -0.5868,  0.1266, -0.4565,  0.0111],\n",
      "        [-0.7494,  0.2036, -0.0478, -0.3223,  0.3351],\n",
      "        [ 1.0279, -0.4474, -0.8396, -0.3033,  0.1352],\n",
      "        [ 0.2970, -0.0445,  0.2479, -0.5145, -0.0780],\n",
      "        [ 0.6912,  0.1495, -0.3904,  0.1412, -0.1362],\n",
      "        [ 0.2969,  0.0084, -0.2506,  0.1902, -0.1699],\n",
      "        [-1.0619,  0.0790, -1.7517, -0.6086,  0.6458]], device='cuda:0')\n",
      "conv2.bias tensor([ 0.7298,  0.2528,  0.2127, -0.2157, -1.1255], device='cuda:0')\n"
     ]
    }
   ],
   "source": [
    "for name, param in model.named_parameters():\n",
    "    if param.requires_grad:\n",
    "        print (name, param.data)"
   ]
  },
  {
   "cell_type": "code",
   "execution_count": 13,
   "metadata": {},
   "outputs": [],
   "source": [
    "for layer in model.children():\n",
    "   if hasattr(layer, 'reset_parameters'):\n",
    "       layer.reset_parameters()"
   ]
  },
  {
   "cell_type": "code",
   "execution_count": null,
   "metadata": {},
   "outputs": [],
   "source": []
  }
 ]
}